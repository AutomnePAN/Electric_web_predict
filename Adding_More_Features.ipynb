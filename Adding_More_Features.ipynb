{
 "cells": [
  {
   "cell_type": "markdown",
   "metadata": {},
   "source": [
    "## Import the Packages"
   ]
  },
  {
   "cell_type": "code",
   "execution_count": 2,
   "metadata": {},
   "outputs": [],
   "source": [
    "import pandas as pd\n",
    "import numpy as np\n",
    "import sklearn as sk\n",
    "import matplotlib as plt\n",
    "import xlrd\n",
    "import datetime\n",
    "from sklearn.neural_network import MLPRegressor  # 多层线性回归\n",
    "from sklearn.preprocessing import StandardScaler\n",
    "from pandas._libs import tslibs \n",
    "import random"
   ]
  },
  {
   "cell_type": "markdown",
   "metadata": {},
   "source": [
    "## Import the DataSet"
   ]
  },
  {
   "cell_type": "code",
   "execution_count": 7,
   "metadata": {},
   "outputs": [],
   "source": [
    "#Import the data_set\n",
    "data_month = []\n",
    "for i in range(19):\n",
    "    data_month.append(pd.read_csv('DataProcessed/Data_month_{}.csv'.format(str(i))) );"
   ]
  },
  {
   "cell_type": "markdown",
   "metadata": {},
   "source": [
    "## Add the feature month"
   ]
  },
  {
   "cell_type": "code",
   "execution_count": 14,
   "metadata": {},
   "outputs": [],
   "source": [
    "month_seq = [5,6,7,8,9,10,12,1,2,3,4,5,6,7,8,9,10,11]\n",
    "for j in range(18):\n",
    "    month = [];\n",
    "    for i in range(1, data_month[j].shape[0]):\n",
    "        month.append(month_seq[j])\n",
    "    Month = pd.DataFrame(month)\n",
    "    data_month[j] = pd.merge(data_month[j], Month,left_index=True,right_index=True,how='outer')"
   ]
  },
  {
   "cell_type": "markdown",
   "metadata": {},
   "source": [
    "## Concatenate the DataSet"
   ]
  },
  {
   "cell_type": "code",
   "execution_count": 19,
   "metadata": {},
   "outputs": [
    {
     "name": "stderr",
     "output_type": "stream",
     "text": [
      "C:\\Users\\Automne\\AppData\\Local\\Continuum\\anaconda3\\lib\\site-packages\\ipykernel_launcher.py:3: FutureWarning: Sorting because non-concatenation axis is not aligned. A future version\n",
      "of pandas will change to not sort by default.\n",
      "\n",
      "To accept the future behavior, pass 'sort=False'.\n",
      "\n",
      "To retain the current behavior and silence the warning, pass 'sort=True'.\n",
      "\n",
      "  This is separate from the ipykernel package so we can avoid doing imports until\n"
     ]
    }
   ],
   "source": [
    "raw_data = data_month[0];\n",
    "for i in range(1,19):\n",
    "    raw_data = pd.concat([raw_data, data_month[i]], ignore_index=True)\n",
    "raw_data.columns = [u'Time_hour',u'AllEnergy',u'Month']"
   ]
  },
  {
   "cell_type": "code",
   "execution_count": 18,
   "metadata": {
    "scrolled": true
   },
   "outputs": [
    {
     "name": "stdout",
     "output_type": "stream",
     "text": [
      "       Unnamed: 0           0    0\n",
      "0               0  303.500000  5.0\n",
      "1               1  278.000000  5.0\n",
      "2               2  278.000000  5.0\n",
      "3               3  258.500000  5.0\n",
      "4               4  228.500000  5.0\n",
      "5               5  355.500000  5.0\n",
      "6               6  395.500000  5.0\n",
      "7               7  523.500000  5.0\n",
      "8               8  462.500000  5.0\n",
      "9               9  521.500000  5.0\n",
      "10             10  660.500000  5.0\n",
      "11             11  570.000000  5.0\n",
      "12             12  324.000000  5.0\n",
      "13             13  322.500000  5.0\n",
      "14             14  572.000000  5.0\n",
      "15             15  405.000000  5.0\n",
      "16             16  690.000000  5.0\n",
      "17             17  524.500000  5.0\n",
      "18             18  499.500000  5.0\n",
      "19             19  680.500000  5.0\n",
      "20             20  710.500000  5.0\n",
      "21             21  588.500000  5.0\n",
      "22             22  499.000000  5.0\n",
      "23             23  335.000000  5.0\n",
      "24             24  259.250000  5.0\n",
      "25             25  217.000000  5.0\n",
      "26             26  240.000000  5.0\n",
      "27             27  202.250000  5.0\n",
      "28             28  216.250000  5.0\n",
      "29             29  266.750000  5.0\n",
      "...           ...         ...  ...\n",
      "13410         666  374.859375  NaN\n",
      "13411         667  385.759277  NaN\n",
      "13412         668  530.062500  NaN\n",
      "13413         669  524.172087  NaN\n",
      "13414         670  406.519574  NaN\n",
      "13415         671  577.203714  NaN\n",
      "13416         672  407.989139  NaN\n",
      "13417         673  246.000000  NaN\n",
      "13418         674  201.273255  NaN\n",
      "13419         675  210.685823  NaN\n",
      "13420         676  307.011105  NaN\n",
      "13421         677  231.630853  NaN\n",
      "13422         678  384.957050  NaN\n",
      "13423         679  374.339294  NaN\n",
      "13424         680  953.933781  NaN\n",
      "13425         681  705.015625  NaN\n",
      "13426         682  728.609375  NaN\n",
      "13427         683  516.788086  NaN\n",
      "13428         684  239.744039  NaN\n",
      "13429         685  328.218750  NaN\n",
      "13430         686  504.010254  NaN\n",
      "13431         687  473.000000  NaN\n",
      "13432         688  802.000000  NaN\n",
      "13433         689  374.678167  NaN\n",
      "13434         690  375.000000  NaN\n",
      "13435         691  368.379639  NaN\n",
      "13436         692  514.531250  NaN\n",
      "13437         693  509.086043  NaN\n",
      "13438         694  389.259787  NaN\n",
      "13439         695  592.601857  NaN\n",
      "\n",
      "[13440 rows x 3 columns]\n"
     ]
    }
   ],
   "source": [
    "#The data concatenated all together;\n",
    "print(raw_data)"
   ]
  },
  {
   "cell_type": "markdown",
   "metadata": {},
   "source": [
    "## Add the different features"
   ]
  },
  {
   "cell_type": "code",
   "execution_count": 20,
   "metadata": {},
   "outputs": [],
   "source": [
    "#Add the feature hour in day range from 0 to 23\n",
    "raw_data['Hour_in_Day'] = raw_data['Time_hour']%24\n",
    "\n",
    "#Add the feature day in month range from 1 to 31;\n",
    "day_in_month = [];\n",
    "day_in_year = [];\n",
    "for i in range(1, raw_data.shape[0]):\n",
    "    day_in_month.append( 1+int((raw_data['Time_hour'][i])/24))\n",
    "    day_in_year.append(1+int( i /24))\n",
    "\n",
    "Day_in_month = pd.DataFrame(day_in_month)\n",
    "Day_in_year = pd.DataFrame(day_in_year)\n",
    "Energy_per_hour = pd.merge(raw_data, Day_in_month ,left_index=True,right_index=True,how='outer')\n",
    "Energy_per_hour = pd.merge(Energy_per_hour, Day_in_year ,left_index=True,right_index=True,how='outer')\n",
    "Energy_per_hour.columns = ['Time_hour', 'AllEnergy','Month', 'Hour_in_Day', 'Day_in_month', 'Day_in_year']\n",
    "\n",
    "#Add the feature date in week;\n",
    "Energy_per_hour['Day_in_Week'] = Energy_per_hour['Day_in_year']%7\n",
    "\n",
    "#Add the feature whether the it's the weekend day or not;\n",
    "Is_weekend = []\n",
    "for i in range(1, Energy_per_hour.shape[0]):\n",
    "    if(Energy_per_hour['Day_in_Week'][i] > 5 or Energy_per_hour['Day_in_Week'][i] < 1):\n",
    "        Is_weekend.append(1)\n",
    "    else:\n",
    "        Is_weekend.append(0)\n",
    "Is_Weekend = pd.DataFrame(Is_weekend)\n",
    "Energy_per_hour = pd.merge(Energy_per_hour, Is_Weekend,left_index=True,right_index=True,how='outer')\n",
    "\n",
    "Energy_per_hour.columns = ['Time_hour', 'AllEnergy', 'Month' ,'Hour_in_Day', 'Day_in_month', 'Day_in_year','Day_in_week', 'Is_weekend']\n",
    "\n",
    "#Set the holiday date set\n",
    "Holiday = [(1,1)]\n",
    "for i in range(15,21):\n",
    "    Holiday.append( (2,i) )\n",
    "for i in range(5,7):\n",
    "    Holiday.append( (4,i) )\n",
    "for i in range(29,30):\n",
    "    Holiday.append( (4,i) )\n",
    "Holiday.append( (5,1) )\n",
    "for i in range(16,18):\n",
    "    Holiday.append( (6,i) )\n",
    "for i in range(22,24):\n",
    "    Holiday.append( (9,i) )\n",
    "for i in range(1,7):\n",
    "    Holiday.append( (10,i) )\n",
    "    \n",
    "Is_holiday = []\n",
    "\n",
    "for i in range(1, Energy_per_hour.shape[0]):\n",
    "    flag = 0;\n",
    "    for j in range(0, len(Holiday)-1):\n",
    "        if (  (Energy_per_hour['Month'][i], Energy_per_hour['Day_in_month'][i]) == Holiday[j]  ):\n",
    "            flag = 1\n",
    "    Is_holiday.append(flag)\n",
    "Is_Holiday = pd.DataFrame(Is_holiday)\n",
    "Energy_per_hour = pd.merge(Energy_per_hour, Is_Holiday,left_index=True,right_index=True,how='outer')\n",
    "Energy_per_hour.columns = ['Time_hour', 'AllEnergy', 'Month' ,'Hour_in_Day', 'Day_in_month', 'Day_in_year','Day_in_week', 'Is_weekend', 'Is_Holiday']\n",
    "\n",
    "#Add the energy consuming condition before as features\n",
    "for h in range(1,50):\n",
    "    Energy_last = []\n",
    "    for i in range(0,h):\n",
    "        Energy_last.append(0)\n",
    "    for i in range(h, raw_data.shape[0]):\n",
    "        Energy_last.append( raw_data['AllEnergy'][i - h])\n",
    "    Energy_last = pd.DataFrame(Energy_last)\n",
    "    Energy_per_hour = pd.merge(Energy_per_hour, Energy_last,left_index=True,right_index=True,how='outer')"
   ]
  },
  {
   "cell_type": "markdown",
   "metadata": {},
   "source": [
    "## Import the Data to Training DateSet "
   ]
  },
  {
   "cell_type": "code",
   "execution_count": 21,
   "metadata": {},
   "outputs": [],
   "source": [
    "pd.DataFrame(Energy_per_hour).to_csv('TrainingData/Data_month_with_features_2.csv')"
   ]
  }
 ],
 "metadata": {
  "kernelspec": {
   "display_name": "Python 3",
   "language": "python",
   "name": "python3"
  },
  "language_info": {
   "codemirror_mode": {
    "name": "ipython",
    "version": 3
   },
   "file_extension": ".py",
   "mimetype": "text/x-python",
   "name": "python",
   "nbconvert_exporter": "python",
   "pygments_lexer": "ipython3",
   "version": "3.7.1"
  }
 },
 "nbformat": 4,
 "nbformat_minor": 2
}
